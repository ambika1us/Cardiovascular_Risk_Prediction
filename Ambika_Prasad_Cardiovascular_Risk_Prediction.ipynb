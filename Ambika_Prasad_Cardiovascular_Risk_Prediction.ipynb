{
  "nbformat": 4,
  "nbformat_minor": 0,
  "metadata": {
    "colab": {
      "provenance": [],
      "authorship_tag": "ABX9TyNmS3gZnYYG4S44ZtXBiXyi",
      "include_colab_link": true
    },
    "kernelspec": {
      "name": "python3",
      "display_name": "Python 3"
    },
    "language_info": {
      "name": "python"
    }
  },
  "cells": [
    {
      "cell_type": "markdown",
      "metadata": {
        "id": "view-in-github",
        "colab_type": "text"
      },
      "source": [
        "<a href=\"https://colab.research.google.com/github/ambika1us/Cardiovascular_Risk_Prediction/blob/main/Ambika_Prasad_Cardiovascular_Risk_Prediction.ipynb\" target=\"_parent\"><img src=\"https://colab.research.google.com/assets/colab-badge.svg\" alt=\"Open In Colab\"/></a>"
      ]
    },
    {
      "cell_type": "markdown",
      "source": [
        "<h3><b>Project Name</b> - Cardiovascular Risk Prediction</h3>"
      ],
      "metadata": {
        "id": "NV_eHdT9qdF_"
      }
    },
    {
      "cell_type": "markdown",
      "source": [
        "<h5><b>Project Type : </b>Classification<br></h5>\n",
        "<h5><b>Contribution : </b>Indivisual</h5>\n"
      ],
      "metadata": {
        "id": "_orsQudOqqx3"
      }
    },
    {
      "cell_type": "markdown",
      "source": [
        "<h4><b>Project Summary - </b></h4>\n",
        "\n",
        "<p>The main objective of this project is the prediction heart disease using different classification algorithms such as logistic regression, K-Nearest Neighbors, Support Vector Machine, Naive Bayesian algorithm, Decision Tree and Random forest classifier algorithms. The evaluation metrics used is confusion matrix and K-fold cross validation score.</p>\n",
        "<h5>Methodology:</h5>\n",
        "<ul>\n",
        "<li>Import necessory libraries.</li>\n",
        "<li>Import dataset, Read the dataset, the data should contain different variables like age, sex,cp,slop target.</li>\n",
        "<li>Data Visualization using histogram distribution line and bar graph. Use of heatmap for determining the correlation of the various features with each other.</li>\n",
        "<li>Data pre-processing: dummy variable trap for elimination of insignificant features from the dataset, spletting of the dataset into training and test sets feature scaling.</li>\n",
        "<li>The machine learning models used for the risk prediction and classification of heart diseases are as follows:\n",
        "<ol>\n",
        "<li>Logistic Regression</li>\n",
        "<li>Support Vector Machine</li>\n",
        "<li>K-Nearest Neighbors</li>\n",
        "<li>Naive Bayesian Algorithm</li>\n",
        "<li>Decision Trees Classifier</li>\n",
        "<li>Random Forest Classifier</li>\n",
        "</ol></li>\n",
        "<li>Evaluation of the performance and accuracy of the various ML models employed. Evaluation metrics consisted of:\n",
        "<ol>\n",
        "<li>confusion matrix</li>\n",
        "<li>K-fold cross validation score</li> \n",
        "</ol>\n",
        "</li>\n",
        "<li>Plotting a bar graph for the comparison of the various test accuracies obtained by using the various ML classification algorithms.</li>\n",
        "</ul>"
      ],
      "metadata": {
        "id": "w4Imah2SraDi"
      }
    },
    {
      "cell_type": "markdown",
      "source": [
        "<h5><b>Github Link:</b></h5>"
      ],
      "metadata": {
        "id": "tYO4Ok1EjNRy"
      }
    },
    {
      "cell_type": "code",
      "execution_count": null,
      "metadata": {
        "id": "FLugFwDWp6ZO"
      },
      "outputs": [],
      "source": []
    }
  ]
}